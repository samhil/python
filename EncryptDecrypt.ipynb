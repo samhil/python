{
 "cells": [
  {
   "cell_type": "code",
   "execution_count": 64,
   "metadata": {},
   "outputs": [
    {
     "name": "stdout",
     "output_type": "stream",
     "text": [
      "Please Enter the locationC:\\Users\\sam\\Desktop\\Sc\n",
      "please enter the file nameTest.txt\n"
     ]
    }
   ],
   "source": [
    "#get the path and file name from user\n",
    "File_loc = input(\"Please Enter the location\")\n",
    "File_name = input (\"please enter the file name\")\n",
    "from pathlib import Path\n",
    "\n",
    "data_folder = Path(File_loc)\n",
    "\n",
    "with open(data_folder /File_name, 'r') as file:\n",
    "    data = file.read()\n",
    "\n",
    "encod_data = data.encode()# encode the data"
   ]
  },
  {
   "cell_type": "code",
   "execution_count": 65,
   "metadata": {},
   "outputs": [
    {
     "name": "stdout",
     "output_type": "stream",
     "text": [
      "This is a test file\n",
      "with numbers 143756894 \n",
      "Test string in different fontÎ²â„¦(x+a)^n=âˆ‘_(k=0)^nã€–(nÂ¦k) x^k a^(n-k) ã€—\n",
      "After Encoding\n",
      "b'This is a test file\\nwith numbers 143756894 \\nTest string in different font\\xc3\\x8e\\xc2\\xb2\\xc3\\xa2\\xe2\\x80\\x9e\\xc2\\xa6(x+a)^n=\\xc3\\xa2\\xcb\\x86\\xe2\\x80\\x98_(k=0)^n\\xc3\\xa3\\xe2\\x82\\xac\\xe2\\x80\\x93(n\\xc3\\x82\\xc2\\xa6k) x^k a^(n-k) \\xc3\\xa3\\xe2\\x82\\xac\\xe2\\x80\\x94'\n"
     ]
    }
   ],
   "source": [
    "#Data Vs Encoded data\n",
    "print(data)\n",
    "print(\"After Encoding\")\n",
    "print(encod_data)"
   ]
  },
  {
   "cell_type": "code",
   "execution_count": 66,
   "metadata": {},
   "outputs": [],
   "source": [
    "#Function to crerate the Key for encryption and decryption\n",
    "from cryptography.fernet import Fernet\n",
    "def generate_key():\n",
    "    \"\"\"\n",
    "    Generates a key and save it into a file\n",
    "    \"\"\"\n",
    "    key = Fernet.generate_key()\n",
    "    with open(\"secret.key\",\"wb\") as key_file:\n",
    "        key_file.write(key)\n"
   ]
  },
  {
   "cell_type": "code",
   "execution_count": 67,
   "metadata": {},
   "outputs": [],
   "source": [
    "generate_key()#run once to create the key"
   ]
  },
  {
   "cell_type": "code",
   "execution_count": 68,
   "metadata": {},
   "outputs": [],
   "source": [
    "def load_key():#used in encrypt_message()\n",
    "    \"\"\"\n",
    "    Load the previously generated key\n",
    "    \"\"\"\n",
    "    return open(\"secret.key\", \"rb\").read()"
   ]
  },
  {
   "cell_type": "code",
   "execution_count": 69,
   "metadata": {},
   "outputs": [],
   "source": [
    "#function to encrypt the message\n",
    "def encrypt_message(message):\n",
    "    \"\"\"\n",
    "    Encrypts a message\n",
    "    \"\"\"\n",
    "    key = load_key()\n",
    "    f = Fernet(key)\n",
    "    encrypted_message = f.encrypt(message)\n",
    "    return encrypted_message"
   ]
  },
  {
   "cell_type": "code",
   "execution_count": 70,
   "metadata": {},
   "outputs": [],
   "source": [
    "#Call the function to encrypt the message\n",
    "test_enc = encrypt_message(encod_data)"
   ]
  },
  {
   "cell_type": "code",
   "execution_count": 73,
   "metadata": {},
   "outputs": [
    {
     "name": "stdout",
     "output_type": "stream",
     "text": [
      "b'This is a test file\\nwith numbers 143756894 \\nTest string in different font\\xc3\\x8e\\xc2\\xb2\\xc3\\xa2\\xe2\\x80\\x9e\\xc2\\xa6(x+a)^n=\\xc3\\xa2\\xcb\\x86\\xe2\\x80\\x98_(k=0)^n\\xc3\\xa3\\xe2\\x82\\xac\\xe2\\x80\\x93(n\\xc3\\x82\\xc2\\xa6k) x^k a^(n-k) \\xc3\\xa3\\xe2\\x82\\xac\\xe2\\x80\\x94'\n",
      "\n",
      "After encryption\n",
      "\n",
      "b'gAAAAABgErKkpNmCYb54-_KEq-WLL79qb5rAYKgk-ouNVhNyVvJt9oBIvHZi5x3P82UcFw7plNd3GA7cLGXF-8Jgs0t2UNMUpxoZN2ZgxV71SCYZQk7gIDU15n_lw8mb_go8TfQgqUk_NhG-3YpePiraqg0bs3Vx8d4Fpr40WPcDMhurZJy471AuRk7C6IfnjSihAbVzwXqse1UgMwynq1VULixbUG6_DxsSoQjP6supgdfZjJ29y_v0MD3Zmq0bZ3eBO6njXee4zLgeHV_2W7tUm1yWbdAqAQ=='\n"
     ]
    }
   ],
   "source": [
    "#encoded data Vs encrypted data\n",
    "print(encod_data)\n",
    "print()\n",
    "print(\"After encryption\")\n",
    "print()\n",
    "print(test_enc)"
   ]
  },
  {
   "cell_type": "code",
   "execution_count": 74,
   "metadata": {},
   "outputs": [],
   "source": [
    "#Store the encrypted file to local drive\n",
    "\n",
    "f = open(\"enc.txt\", \"wb\")\n",
    "\n",
    "f.write(test_enc)\n",
    "\n",
    "f.close()"
   ]
  },
  {
   "cell_type": "code",
   "execution_count": 75,
   "metadata": {},
   "outputs": [],
   "source": [
    "#Function to decrypt \n",
    "from cryptography.fernet import Fernet\n",
    "\n",
    "def load_key():\n",
    "    \"\"\"\n",
    "    Load the previously generated key\n",
    "    \"\"\"\n",
    "    return open(\"secret.key\", \"rb\").read()\n",
    "\n",
    "def decrypt_message(encrypted_message):\n",
    "    \"\"\"\n",
    "    Decrypts an encrypted message\n",
    "    \"\"\"\n",
    "    key = load_key()\n",
    "    f = Fernet(key)\n",
    "    decrypted_message = f.decrypt(encrypted_message)\n",
    "    return decrypted_message.decode()\n",
    "   "
   ]
  },
  {
   "cell_type": "code",
   "execution_count": 76,
   "metadata": {},
   "outputs": [],
   "source": [
    "#Read the encrypted file and store it in a variable\n",
    "f = open(\"enc.txt\", \"rb\")\n",
    "\n",
    "data_todecrypt = f.read()\n",
    "\n",
    "f.close()"
   ]
  },
  {
   "cell_type": "code",
   "execution_count": 78,
   "metadata": {},
   "outputs": [],
   "source": [
    "#Calling the function to decrypt\n",
    "test_decrypt = decrypt_message(data_todecrypt) "
   ]
  },
  {
   "cell_type": "code",
   "execution_count": 79,
   "metadata": {},
   "outputs": [
    {
     "name": "stdout",
     "output_type": "stream",
     "text": [
      "This is a test file\n",
      "with numbers 143756894 \n",
      "Test string in different fontÎ²â„¦(x+a)^n=âˆ‘_(k=0)^nã€–(nÂ¦k) x^k a^(n-k) ã€—\n"
     ]
    }
   ],
   "source": [
    "print(test_decrypt)"
   ]
  },
  {
   "cell_type": "code",
   "execution_count": 80,
   "metadata": {},
   "outputs": [],
   "source": [
    "#Write the decrypted file to local drive\n",
    "f = open(\"decrypt.txt\", \"w\")\n",
    "\n",
    "f.write(test_decrypt)\n",
    "\n",
    "f.close()"
   ]
  },
  {
   "cell_type": "code",
   "execution_count": null,
   "metadata": {},
   "outputs": [],
   "source": []
  }
 ],
 "metadata": {
  "kernelspec": {
   "display_name": "Python 3",
   "language": "python",
   "name": "python3"
  },
  "language_info": {
   "codemirror_mode": {
    "name": "ipython",
    "version": 3
   },
   "file_extension": ".py",
   "mimetype": "text/x-python",
   "name": "python",
   "nbconvert_exporter": "python",
   "pygments_lexer": "ipython3",
   "version": "3.7.6"
  }
 },
 "nbformat": 4,
 "nbformat_minor": 4
}
